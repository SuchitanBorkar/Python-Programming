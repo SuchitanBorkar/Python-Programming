{
 "cells": [
  {
   "cell_type": "code",
   "execution_count": 2,
   "id": "3dde83c7",
   "metadata": {
    "id": "3dde83c7",
    "outputId": "b6edbca4-eeb8-4283-cb76-c71660f011a0"
   },
   "outputs": [
    {
     "name": "stdout",
     "output_type": "stream",
     "text": [
      "Hello\n",
      "Welcome to Python class\n",
      "It has been a wonderful experience with you \n"
     ]
    }
   ],
   "source": [
    "# Python code to illustrate read() mode\n",
    "file = open(\"test.txt\", \"r\")\n",
    "print (file.read())"
   ]
  },
  {
   "cell_type": "code",
   "execution_count": null,
   "id": "e885d959",
   "metadata": {
    "id": "e885d959"
   },
   "outputs": [],
   "source": [
    "# Python code to create a file\n",
    "file = open('test.txt','w')\n",
    "file.write(\"This is the write command\")\n",
    "file.write(\"It allows us to write in a particular file\")\n",
    "file.close()"
   ]
  },
  {
   "cell_type": "code",
   "execution_count": null,
   "id": "32b2286f",
   "metadata": {
    "id": "32b2286f"
   },
   "outputs": [],
   "source": [
    "# Python code to illustrate append() mode\n",
    "file = open('test.txt', 'a')\n",
    "file.write(\"This will add this line\")\n",
    "file.close()"
   ]
  },
  {
   "cell_type": "code",
   "execution_count": 5,
   "id": "c2bce147",
   "metadata": {
    "id": "c2bce147",
    "outputId": "71f3f7e7-ed08-470d-fa3d-188a47fd0dab"
   },
   "outputs": [
    {
     "name": "stdout",
     "output_type": "stream",
     "text": [
      "This \n"
     ]
    }
   ],
   "source": [
    "\n",
    "# Python code to illustrate read() mode character wise\n",
    "file = open(\"test.txt\", \"r\")\n",
    "print (file.read(5))"
   ]
  },
  {
   "cell_type": "code",
   "execution_count": null,
   "id": "4df87e36",
   "metadata": {
    "id": "4df87e36",
    "outputId": "f095822e-e8c4-495c-8448-c5eb33a8c3d0"
   },
   "outputs": [
    {
     "name": "stdout",
     "output_type": "stream",
     "text": [
      "Hello All,\n",
      "\n",
      "\n",
      "\n",
      "How are you\n",
      "\n",
      "Its been pleasure to interact with you all\n"
     ]
    }
   ],
   "source": [
    "# a file named test, will be opened with the reading mode.\n",
    "file = open('test.txt', 'r')\n",
    "\n",
    "# This will print every line one by one in the file\n",
    "for each in file:\n",
    "    print (each)"
   ]
  },
  {
   "cell_type": "code",
   "execution_count": null,
   "id": "ec55a61a",
   "metadata": {
    "id": "ec55a61a",
    "outputId": "d75bd80d-a084-4cff-efb0-282dea2e8583"
   },
   "outputs": [
    {
     "name": "stdout",
     "output_type": "stream",
     "text": [
      "['Hello', 'All,']\n",
      "[]\n",
      "['How', 'are', 'you']\n",
      "['Its', 'been', 'pleasure', 'to', 'interact', 'with', 'you', 'all']\n"
     ]
    }
   ],
   "source": [
    "# Python code to illustrate split() function\n",
    "with open(\"test.txt\", \"r\") as file:\n",
    "    data = file.readlines()\n",
    "    for line in data:\n",
    "        word = line.split()\n",
    "        print (word)"
   ]
  },
  {
   "cell_type": "code",
   "execution_count": null,
   "id": "c6232482",
   "metadata": {
    "id": "c6232482"
   },
   "outputs": [],
   "source": [
    "import os\n",
    "os.remove(\"test.txt\")"
   ]
  },
  {
   "cell_type": "code",
   "execution_count": null,
   "id": "5cd7f9b7",
   "metadata": {
    "id": "5cd7f9b7",
    "outputId": "8a635639-5786-4f4f-c1a2-f4185a8b93e5"
   },
   "outputs": [
    {
     "name": "stdout",
     "output_type": "stream",
     "text": [
      "        Unnamed: 0                       date    open    high     low   close  \\\n",
      "0                0  2018-01-01 09:15:00+05:30  407.00  407.00  403.70  404.25   \n",
      "1                1  2018-01-01 09:16:00+05:30  404.55  404.90  403.30  404.50   \n",
      "2                2  2018-01-01 09:17:00+05:30  404.55  406.30  404.55  405.50   \n",
      "3                3  2018-01-01 09:18:00+05:30  405.55  405.65  404.60  404.70   \n",
      "4                4  2018-01-01 09:19:00+05:30  405.10  405.10  404.20  404.55   \n",
      "...            ...                        ...     ...     ...     ...     ...   \n",
      "456370       15370  2023-01-03 15:25:00+05:30  820.00  820.50  819.60  820.00   \n",
      "456371       15371  2023-01-03 15:26:00+05:30  820.10  820.35  819.70  820.15   \n",
      "456372       15372  2023-01-03 15:27:00+05:30  820.15  820.15  819.50  819.90   \n",
      "456373       15373  2023-01-03 15:28:00+05:30  819.90  820.40  819.75  820.00   \n",
      "456374       15374  2023-01-03 15:29:00+05:30  820.00  820.00  818.00  818.00   \n",
      "\n",
      "        volume  \n",
      "0        15018  \n",
      "1        12209  \n",
      "2         7837  \n",
      "3         3614  \n",
      "4         4542  \n",
      "...        ...  \n",
      "456370   33880  \n",
      "456371    9931  \n",
      "456372    9150  \n",
      "456373   11068  \n",
      "456374   65713  \n",
      "\n",
      "[456375 rows x 7 columns]\n"
     ]
    }
   ],
   "source": [
    "import pandas as pd\n",
    "\n",
    "# Read the CSV file into a DataFrame\n",
    "df = pd.read_csv('employees.csv')\n",
    "\n",
    "# Display the DataFrame\n",
    "print(df)"
   ]
  },
  {
   "cell_type": "code",
   "execution_count": null,
   "id": "2565f022",
   "metadata": {
    "id": "2565f022"
   },
   "outputs": [],
   "source": []
  }
 ],
 "metadata": {
  "colab": {
   "provenance": []
  },
  "kernelspec": {
   "display_name": "Python 3 (ipykernel)",
   "language": "python",
   "name": "python3"
  },
  "language_info": {
   "codemirror_mode": {
    "name": "ipython",
    "version": 3
   },
   "file_extension": ".py",
   "mimetype": "text/x-python",
   "name": "python",
   "nbconvert_exporter": "python",
   "pygments_lexer": "ipython3",
   "version": "3.9.12"
  }
 },
 "nbformat": 4,
 "nbformat_minor": 5
}
