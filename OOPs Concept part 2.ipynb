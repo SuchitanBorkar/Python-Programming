{
 "cells": [
  {
   "cell_type": "markdown",
   "id": "5294318b",
   "metadata": {
    "id": "5294318b"
   },
   "source": [
    "## Object Oriented Programming"
   ]
  },
  {
   "cell_type": "markdown",
   "id": "78cfd4e3",
   "metadata": {
    "id": "78cfd4e3"
   },
   "source": [
    "## Inheritance"
   ]
  },
  {
   "cell_type": "code",
   "execution_count": 11,
   "id": "ba54ff53",
   "metadata": {},
   "outputs": [
    {
     "data": {
      "text/plain": [
       "'John'"
      ]
     },
     "execution_count": 11,
     "metadata": {},
     "output_type": "execute_result"
    }
   ],
   "source": [
    "# Single Inheritance\n",
    "\n",
    "class Person:\n",
    "    def __init__(self, name):\n",
    "        self.name = name\n",
    "       \n",
    "class Professor(Person):\n",
    "    def isProfessor(self):\n",
    "        return self.name\n",
    "       \n",
    "sir = Professor(\"John\")\n",
    "sir.isProfessor()"
   ]
  },
  {
   "cell_type": "code",
   "execution_count": 2,
   "id": "41d7c8e7",
   "metadata": {},
   "outputs": [
    {
     "name": "stdout",
     "output_type": "stream",
     "text": [
      "Child Class\n",
      "Parent Class\n"
     ]
    }
   ],
   "source": [
    "# Single Inheritance\n",
    "class Parent:  # Parent\n",
    "    def display_parent(self): # Code or statement\n",
    "        print(\"Parent Class\")\n",
    "        \n",
    "class Child(Parent):  # Child is a derive class of base class Parent\n",
    "    def display_child(self):\n",
    "        print(\"Child Class\")\n",
    "        \n",
    "obj=Child()\n",
    "obj.display_child()\n",
    "obj.display_parent()"
   ]
  },
  {
   "cell_type": "code",
   "execution_count": 5,
   "id": "a71f2632",
   "metadata": {},
   "outputs": [
    {
     "name": "stdout",
     "output_type": "stream",
     "text": [
      "Class B\n",
      "Class A\n"
     ]
    }
   ],
   "source": [
    "# Single Inheritance\n",
    "class A:\n",
    "    def display_parent(self):\n",
    "        print(\"Class A\")\n",
    "class B(A):\n",
    "    def display_child(self):\n",
    "        print(\"Class B\")\n",
    "obj=B()\n",
    "obj.display_child()\n",
    "obj.display_parent()"
   ]
  },
  {
   "cell_type": "code",
   "execution_count": 12,
   "id": "d104f23f",
   "metadata": {},
   "outputs": [
    {
     "name": "stdout",
     "output_type": "stream",
     "text": [
      "Level 3\n",
      "Level 4\n",
      "Level 2\n",
      "Level 1\n"
     ]
    }
   ],
   "source": [
    "# Multilevel\n",
    "class A:\n",
    "    def display_A(self):\n",
    "        print(\"Level 1\")\n",
    "class B(A):\n",
    "    def display_B(self):\n",
    "        print(\"Level 2\")\n",
    "class C(B):\n",
    "    def display_C(self):\n",
    "        print(\"Level 3\")\n",
    "class D(C):\n",
    "    def display_D(self):\n",
    "        print(\"Level 4\")\n",
    "obj=D()\n",
    "obj1=A()\n",
    "obj.display_C()\n",
    "obj.display_D()\n",
    "\n",
    "obj.display_B()\n",
    "obj.display_A()"
   ]
  },
  {
   "cell_type": "code",
   "execution_count": 14,
   "id": "6b4f8bf8",
   "metadata": {},
   "outputs": [
    {
     "name": "stdout",
     "output_type": "stream",
     "text": [
      "C is Child of A and B\n",
      "B Base class\n",
      "A Base Class\n"
     ]
    }
   ],
   "source": [
    "# Multiple Inheritance\n",
    "class A():\n",
    "    def display_A(self):\n",
    "        print(\"A Base Class\")\n",
    "class B():\n",
    "    def display_B(self):\n",
    "        print(\"B Base class\")\n",
    "class C(A,B):\n",
    "    def display_C(self):\n",
    "        print(\"C is Child of A and B\")\n",
    "obj=C()\n",
    "obj.display_C()\n",
    "obj.display_B()\n",
    "obj.display_A()"
   ]
  },
  {
   "cell_type": "code",
   "execution_count": 12,
   "id": "d86fb50d",
   "metadata": {
    "id": "d86fb50d"
   },
   "outputs": [
    {
     "name": "stdout",
     "output_type": "stream",
     "text": [
      "PythonGeeks\n"
     ]
    }
   ],
   "source": [
    "#Multi-Level inheritance\n",
    "class Parent:\n",
    "    str1 = \"Python\"\n",
    "class Child(Parent):\n",
    "    str2 = \"Geeks\"\n",
    "class GrandChild(Child):\n",
    "    def get_str(self):\n",
    "        print(self.str1 + self.str2)\n",
    "person = GrandChild()\n",
    "person.get_str()"
   ]
  },
  {
   "cell_type": "code",
   "execution_count": 14,
   "id": "8e63f704",
   "metadata": {},
   "outputs": [
    {
     "name": "stdout",
     "output_type": "stream",
     "text": [
      "Woof! Woof!\n",
      "Giving birth to live young\n",
      "Canine\n",
      "Buddy\n"
     ]
    }
   ],
   "source": [
    "#Multi-Level inheritance\n",
    "\n",
    "class Animal:\n",
    "    def __init__(self, species):\n",
    "        self.species = species\n",
    "\n",
    "    def make_sound(self):\n",
    "        print(\"Some generic animal sound\")\n",
    "\n",
    "# Intermediate class inheriting from Animal\n",
    "class Mammal(Animal):\n",
    "    def give_birth(self):\n",
    "        print(\"Giving birth to live young\")\n",
    "\n",
    "# Derived class inheriting from Mammal\n",
    "class Dog(Mammal):\n",
    "    def __init__(self, name):\n",
    "        super().__init__(\"Canine\")\n",
    "        self.name = name\n",
    "\n",
    "    def make_sound(self):\n",
    "        print(\"Woof! Woof!\")\n",
    "\n",
    "# Creating an instance of Dog\n",
    "my_dog = Dog(\"Buddy\")\n",
    "\n",
    "# Accessing methods from the base class\n",
    "my_dog.make_sound()  # Outputs: Woof! Woof!\n",
    "my_dog.give_birth()  # Outputs: Giving birth to live young\n",
    "\n",
    "# Accessing attributes from the base class\n",
    "print(my_dog.species)  # Outputs: Canine\n",
    "print(my_dog.name)     # Outputs: Buddy"
   ]
  },
  {
   "cell_type": "code",
   "execution_count": 16,
   "id": "8b0f0217",
   "metadata": {
    "id": "8b0f0217"
   },
   "outputs": [
    {
     "name": "stdout",
     "output_type": "stream",
     "text": [
      "Method from class A\n",
      "Method from class B\n",
      "Method from class C\n"
     ]
    }
   ],
   "source": [
    "#Multiple Inheritance\n",
    "class A:\n",
    "    def method_A(self):\n",
    "        print(\"Method from class A\")\n",
    "\n",
    "class B:\n",
    "    def method_B(self):\n",
    "        print(\"Method from class B\")\n",
    "\n",
    "class C(A, B):\n",
    "    def method_C(self):\n",
    "        print(\"Method from class C\")\n",
    "\n",
    "# Creating an instance of class C\n",
    "obj_c = C()\n",
    "\n",
    "# Accessing methods from all classes\n",
    "obj_c.method_A()  # Outputs: Method from class A\n",
    "obj_c.method_B()  # Outputs: Method from class B\n",
    "obj_c.method_C()  # Outputs: Method from class C"
   ]
  },
  {
   "cell_type": "code",
   "execution_count": null,
   "id": "77375239",
   "metadata": {},
   "outputs": [],
   "source": []
  },
  {
   "cell_type": "code",
   "execution_count": 15,
   "id": "5866d1e9",
   "metadata": {},
   "outputs": [
    {
     "name": "stdout",
     "output_type": "stream",
     "text": [
      "Employee ID: E12345\n",
      "Name: John Doe, Age: 30\n",
      "Address: 123 Main St, Cityville, 12345\n"
     ]
    }
   ],
   "source": [
    "class Person:\n",
    "    def __init__(self, name, age):\n",
    "        self.name = name\n",
    "        self.age = age\n",
    "\n",
    "    def display_info(self):\n",
    "        print(f\"Name: {self.name}, Age: {self.age}\")\n",
    "\n",
    "class Address:\n",
    "    def __init__(self, street, city, zip_code):\n",
    "        self.street = street\n",
    "        self.city = city\n",
    "        self.zip_code = zip_code\n",
    "\n",
    "    def display_address(self):\n",
    "        print(f\"Address: {self.street}, {self.city}, {self.zip_code}\")\n",
    "\n",
    "# Employee class inheriting from both Person and Address\n",
    "class Employee(Person, Address):\n",
    "    def __init__(self, name, age, employee_id, street, city, zip_code):\n",
    "        # Initialize base class constructors explicitly\n",
    "        Person.__init__(self, name, age)\n",
    "        Address.__init__(self, street, city, zip_code)\n",
    "\n",
    "        # Additional attribute for Employee class\n",
    "        self.employee_id = employee_id\n",
    "\n",
    "    def display_employee_info(self):\n",
    "        print(f\"Employee ID: {self.employee_id}\")\n",
    "        self.display_info()  # Call method from Person class\n",
    "        self.display_address()  # Call method from Address class\n",
    "\n",
    "# Creating an instance of Employee\n",
    "employee = Employee(\"John Doe\", 30, \"E12345\", \"123 Main St\", \"Cityville\", \"12345\")\n",
    "\n",
    "# Accessing methods and attributes\n",
    "employee.display_employee_info()"
   ]
  },
  {
   "cell_type": "code",
   "execution_count": null,
   "id": "feb9e7c7",
   "metadata": {},
   "outputs": [],
   "source": []
  },
  {
   "cell_type": "code",
   "execution_count": null,
   "id": "6d1a4929",
   "metadata": {
    "id": "6d1a4929"
   },
   "outputs": [],
   "source": [
    "# Create a Person class and employee child class"
   ]
  },
  {
   "cell_type": "code",
   "execution_count": null,
   "id": "3b110aa5",
   "metadata": {
    "id": "3b110aa5",
    "outputId": "c5e0e8bd-f93e-4db7-b287-e101c3c32cfd"
   },
   "outputs": [
    {
     "name": "stdout",
     "output_type": "stream",
     "text": [
      "Rahul\n",
      "886012\n"
     ]
    }
   ],
   "source": [
    "class Person():\n",
    "  # __init__ is known as the constructor\n",
    "    def __init__(self, name, idnumber):\n",
    "        self.name = name\n",
    "        self.idnumber = idnumber\n",
    "\n",
    "    def display(self):\n",
    "        print(self.name)\n",
    "        print(self.idnumber)\n",
    "\n",
    "class Employee(Person):\n",
    "    def __init__(self, name, idnumber, salary, post):\n",
    "        self.salary = salary\n",
    "        self.post = post\n",
    "\n",
    "        # invoking the __init__ of the parent class\n",
    "        Person.__init__(self, name, idnumber)\n",
    "\n",
    " # creation of an object variable or an instance\n",
    "a = Employee('Rahul', 886012, 200000, \"Intern\")\n",
    "\n",
    "# calling a function of the class Person using its instance\n",
    "a.display()"
   ]
  },
  {
   "cell_type": "markdown",
   "id": "806e1b71",
   "metadata": {
    "id": "806e1b71"
   },
   "source": [
    "## Method Overiding"
   ]
  },
  {
   "cell_type": "code",
   "execution_count": null,
   "id": "1a191afc",
   "metadata": {
    "id": "1a191afc",
    "outputId": "de2b3fe6-bc57-44c2-a4ef-b5fe47a785e4"
   },
   "outputs": [
    {
     "name": "stdout",
     "output_type": "stream",
     "text": [
      "Barking\n"
     ]
    }
   ],
   "source": [
    "#  Method Overiding\n",
    "class Animal:\n",
    "    def speak(self):\n",
    "        print(\"speaking\")\n",
    "class Dog(Animal):\n",
    "    def speak(self):\n",
    "        print(\"Barking\")\n",
    "d = Dog()\n",
    "d.speak()"
   ]
  },
  {
   "cell_type": "code",
   "execution_count": 17,
   "id": "3ddbcf6a",
   "metadata": {},
   "outputs": [
    {
     "name": "stdout",
     "output_type": "stream",
     "text": [
      "This is C class display method\n"
     ]
    }
   ],
   "source": [
    "# Method/function Overiding\n",
    "class A:\n",
    "    def display(self):\n",
    "        print(\"This is A class Display Method\")\n",
    "class D:\n",
    "    def display(self):\n",
    "        print(\"This is D class\")\n",
    "class B(A):\n",
    "    def display(self):\n",
    "        print(\"This is B class Display Method\")\n",
    "class C(B,D):\n",
    "    def display(self):\n",
    "        print(\"This is C class display method\")\n",
    "obj=C()\n",
    "objB=B()\n",
    "objB.display()\n",
    "objA=A()\n",
    "objA.display()\n",
    "\n",
    "obj.display()"
   ]
  },
  {
   "cell_type": "code",
   "execution_count": null,
   "id": "7fc180e2",
   "metadata": {
    "id": "7fc180e2",
    "outputId": "3154408a-2c21-412e-d48c-b7755a563ffd"
   },
   "outputs": [
    {
     "name": "stdout",
     "output_type": "stream",
     "text": [
      "Bank Rate of interest: 10\n",
      "SBI Rate of interest: 7\n",
      "ICICI Rate of interest: 8\n"
     ]
    }
   ],
   "source": [
    "class Bank:\n",
    "    def getroi(self):\n",
    "        return 10\n",
    "class SBI(Bank):\n",
    "    def getroi(self):\n",
    "        return 7\n",
    "class ICICI(Bank):\n",
    "    def getroi(self):\n",
    "        return 8\n",
    "b1 = Bank()\n",
    "b2 = SBI()\n",
    "b3 = ICICI()\n",
    "print(\"Bank Rate of interest:\",b1.getroi())\n",
    "print(\"SBI Rate of interest:\",b2.getroi())\n",
    "print(\"ICICI Rate of interest:\",b3.getroi())"
   ]
  },
  {
   "cell_type": "code",
   "execution_count": 18,
   "id": "6a4e634f",
   "metadata": {
    "id": "6a4e634f",
    "outputId": "49a80d97-e44c-47ed-9180-1b797b15ae6f"
   },
   "outputs": [
    {
     "name": "stdout",
     "output_type": "stream",
     "text": [
      "Bird is ready\n",
      "Penguin is ready\n"
     ]
    }
   ],
   "source": [
    "# Use of super () : allows us to run the init() method of the parent class\n",
    "#inside the child class.\n",
    "class Bird:\n",
    "    def __init__(self):\n",
    "        print(\"Bird is ready\")\n",
    "    def whoisThis(self):\n",
    "        print(\"Bird\")\n",
    "    def swim(self):\n",
    "        print(\"Swim faster\") \n",
    "\n",
    "class Penguin(Bird):\n",
    "    def __init__(self): \n",
    "        super().__init__() \n",
    "        print(\"Penguin is ready\")\n",
    "    def whoisThis(self):\n",
    "        print(\"Penguin\")\n",
    "    def run(self):\n",
    "        print(\"Run faster\")\n",
    "peggy = Penguin()\n",
    "peggy.whoisThis()\n",
    "peggy.swim()\n",
    "peggy.run()"
   ]
  },
  {
   "cell_type": "code",
   "execution_count": 20,
   "id": "c54593c3",
   "metadata": {},
   "outputs": [
    {
     "name": "stdout",
     "output_type": "stream",
     "text": [
      "Bird is ready\n",
      "Penguin is ready\n"
     ]
    }
   ],
   "source": [
    "class Bird:\n",
    "    def __init__(self):\n",
    "        print(\"Bird is ready\")\n",
    "    \n",
    "class Penguin(Bird):\n",
    "    def __init__(self): \n",
    "        super().__init__() \n",
    "        print(\"Penguin is ready\")\n",
    "   \n",
    "peggy = Penguin()\n"
   ]
  },
  {
   "cell_type": "code",
   "execution_count": null,
   "id": "8478288a",
   "metadata": {
    "id": "8478288a",
    "outputId": "6f28def9-0ac8-4c37-c5da-089af8c7d20f"
   },
   "outputs": [
    {
     "data": {
      "text/plain": [
       "'**EXPLAINATION**\\nWe created two classes i.e. Bird (parent class) and Penguin (child class). \\nThe child class inherits the functions of parent class. \\nWe can see this from the swim() method. \\nAgain, the child class modified the behavior of the parent class.\\nWe can see this from the whoisThis() method. \\nFurthermore, we extend the functions of the parent class, \\nby creating a new run() method. \\nAdditionally, we use the super() function inside the __init__() method. \\nThis allows us to run the __init__() method of the parent class inside the child\\nclass.'"
      ]
     },
     "execution_count": 21,
     "metadata": {},
     "output_type": "execute_result"
    }
   ],
   "source": [
    "\"\"\"**EXPLAINATION**\n",
    "We created two classes i.e. Bird (parent class) and Penguin (child class).\n",
    "The child class inherits the functions of parent class.\n",
    "We can see this from the swim() method.\n",
    "Again, the child class modified the behavior of the parent class.\n",
    "We can see this from the whoisThis() method.\n",
    "Furthermore, we extend the functions of the parent class,\n",
    "by creating a new run() method.\n",
    "Additionally, we use the super() function inside the __init__() method.\n",
    "This allows us to run the __init__() method of the parent class inside the child\n",
    "class.\"\"\""
   ]
  },
  {
   "cell_type": "code",
   "execution_count": null,
   "id": "9e553865",
   "metadata": {
    "id": "9e553865"
   },
   "outputs": [],
   "source": [
    "#Python pass Statement"
   ]
  },
  {
   "cell_type": "code",
   "execution_count": null,
   "id": "480880d9",
   "metadata": {
    "id": "480880d9",
    "outputId": "322e9cab-680f-4b16-80fa-ed449d98c5bd"
   },
   "outputs": [
    {
     "data": {
      "text/plain": [
       "'The pass statement is used as a placeholder for future code. When the pass statement is executed, nothing happens, but you avoid getting an error when empty code is not allowed. Empty code is not allowed in loops, function definitions, class definitions, or in if statements. '"
      ]
     },
     "execution_count": 34,
     "metadata": {},
     "output_type": "execute_result"
    }
   ],
   "source": [
    "\"\"\"The pass statement is used as a placeholder for future code. When the pass statement is executed, nothing happens, but you avoid getting an error when empty code is not allowed. Empty code is not allowed in loops, function definitions, class definitions, or in if statements. \"\"\""
   ]
  },
  {
   "cell_type": "code",
   "execution_count": 25,
   "id": "e46a3529",
   "metadata": {},
   "outputs": [
    {
     "name": "stdout",
     "output_type": "stream",
     "text": [
      "hello\n"
     ]
    }
   ],
   "source": [
    "# pass statement\n",
    "\n",
    "class Parent:\n",
    "    def display(self):\n",
    "        pass\n",
    "class Child(Parent):\n",
    "    def display_child(self):\n",
    "        print(\"hello\")\n",
    "obj=Child()\n",
    "obj.display_child()\n",
    "    "
   ]
  },
  {
   "cell_type": "code",
   "execution_count": null,
   "id": "1a42ec80",
   "metadata": {},
   "outputs": [],
   "source": []
  },
  {
   "cell_type": "markdown",
   "id": "b874e14b",
   "metadata": {
    "id": "b874e14b"
   },
   "source": [
    "## Polymorphism"
   ]
  },
  {
   "cell_type": "code",
   "execution_count": null,
   "id": "6fc219f9",
   "metadata": {
    "id": "6fc219f9"
   },
   "outputs": [],
   "source": [
    "#We know that the + operator is used extensively in Python programs.\n",
    "#But, it does not have a single usage.\n",
    "#For integer data types, + operator is used to perform arithmetic\n",
    "#addition operation."
   ]
  },
  {
   "cell_type": "code",
   "execution_count": 21,
   "id": "597d62d7",
   "metadata": {
    "id": "597d62d7"
   },
   "outputs": [
    {
     "name": "stdout",
     "output_type": "stream",
     "text": [
      "3\n",
      "Python Programming\n"
     ]
    }
   ],
   "source": [
    "num1 = 1\n",
    "num2 = 2\n",
    "print(num1+num2)\n",
    "str1 = \"Python\"\n",
    "str2 = \"Programming\"\n",
    "print(str1+\" \"+str2)"
   ]
  },
  {
   "cell_type": "code",
   "execution_count": null,
   "id": "704fe824",
   "metadata": {
    "id": "704fe824",
    "outputId": "2ca3524a-c293-4c2a-b3cd-3f6e7c81eada"
   },
   "outputs": [
    {
     "data": {
      "text/plain": [
       "'we can see that a single operator + has been used to carry out different \\noperations for distinct data types. This is one of the most simple occurrences \\nof polymorphism in Python.'"
      ]
     },
     "execution_count": 24,
     "metadata": {},
     "output_type": "execute_result"
    }
   ],
   "source": [
    "\"\"\"we can see that a single operator + has been used to carry out different\n",
    "operations for distinct data types. This is one of the most simple occurrences\n",
    "of polymorphism in Python.\"\"\""
   ]
  },
  {
   "cell_type": "code",
   "execution_count": 22,
   "id": "fdeb9ada",
   "metadata": {
    "id": "fdeb9ada",
    "outputId": "e27d88d5-ab94-4a76-abb4-17eff14573e3"
   },
   "outputs": [
    {
     "name": "stdout",
     "output_type": "stream",
     "text": [
      "10\n",
      "3\n",
      "2\n"
     ]
    }
   ],
   "source": [
    "print(len(\"Programing\"))\n",
    "print(len([\"Python\", \"Java\", \"C\"]))\n",
    "print(len({\"Name\": \"John\", \"Address\": \"Nepal\"}))"
   ]
  },
  {
   "cell_type": "code",
   "execution_count": null,
   "id": "3f64df47",
   "metadata": {
    "id": "3f64df47"
   },
   "outputs": [],
   "source": [
    "#  Polymorphism demonstration"
   ]
  },
  {
   "cell_type": "code",
   "execution_count": 30,
   "id": "ebf69dca",
   "metadata": {
    "id": "ebf69dca",
    "outputId": "e5744777-ea7b-469f-fdac-96b7fb3b74fb"
   },
   "outputs": [
    {
     "name": "stdout",
     "output_type": "stream",
     "text": [
      "Meow\n",
      "I am a cat. My name is Kitty. I am 2.5 years old.\n",
      "Bark\n",
      "I am a dog. My name is Fluffy. I am 4 years old.\n"
     ]
    }
   ],
   "source": [
    "class Cat:\n",
    "    def __init__(self, name, age):\n",
    "        self.name = name\n",
    "        self.age = age\n",
    "    def info(self):\n",
    "        print(f\"I am a cat. My name is {self.name}. I am {self.age} years old.\")\n",
    "    def make_sound(self):\n",
    "        print(\"Meow\")\n",
    "class Dog:\n",
    "    def __init__(self, name, age):\n",
    "        self.name = name\n",
    "        self.age = age\n",
    "    def info(self):\n",
    "        print(f\"I am a dog. My name is {self.name}. I am {self.age} years old.\")\n",
    "    def make_sound(self):\n",
    "        print(\"Bark\")\n",
    "cat1 = Cat(\"Kitty\", 2.5)\n",
    "dog1 = Dog(\"Fluffy\", 4)\n",
    "for animal in (cat1, dog1):\n",
    "    animal.make_sound()\n",
    "    animal.info()\n",
    "   "
   ]
  },
  {
   "cell_type": "code",
   "execution_count": null,
   "id": "195ac938",
   "metadata": {
    "id": "195ac938",
    "outputId": "44614d95-17af-48c8-d614-aa4982b96d5f"
   },
   "outputs": [
    {
     "name": "stdout",
     "output_type": "stream",
     "text": [
      "Circle\n",
      "I am a two-dimensional shape.\n",
      "Squares have each angle equal to 90 degrees.\n",
      "153.93804002589985\n"
     ]
    }
   ],
   "source": [
    "#  Polymorphism example for calculating area for different shapes\n",
    "from math import pi\n",
    "class Shape:\n",
    "    def __init__(self, name):\n",
    "        self.name = name\n",
    "    def area(self):\n",
    "        pass\n",
    "    def fact(self):\n",
    "        return \"I am a two-dimensional shape.\"\n",
    "    def __str__(self):\n",
    "        return self.name\n",
    "class Square(Shape):\n",
    "    def __init__(self, length):\n",
    "        super().__init__(\"Square\")\n",
    "        self.length = length\n",
    "    def area(self):\n",
    "        return self.length**2\n",
    "    def fact(self):\n",
    "        return \"Squares have each angle equal to 90 degrees.\"\n",
    "class Circle(Shape):\n",
    "    def __init__(self, radius):\n",
    "        super().__init__(\"Circle\")\n",
    "        self.radius = radius\n",
    "    def area(self):\n",
    "        return pi*self.radius**2\n",
    "a = Square(4)\n",
    "b = Circle(7)\n",
    "print(b)\n",
    "print(b.fact())\n",
    "print(a.fact())\n",
    "print(b.area())"
   ]
  },
  {
   "cell_type": "code",
   "execution_count": null,
   "id": "6680244f",
   "metadata": {
    "id": "6680244f",
    "outputId": "eb446025-c697-454b-9097-b6e6a886c7f7"
   },
   "outputs": [
    {
     "data": {
      "text/plain": [
       "\"Here, we can see that the methods such as __str__(), which have not been overridden in the child classes, are used from the parent class. Due to polymorphism, the Python interpreter automatically recognizes that the fact() method for object a(Square class) is overridden. So, it uses the one defined in the child class. On the other hand, since the fact() method for object b isn't overridden, it is used from the Parent Shape class. \""
      ]
     },
     "execution_count": 31,
     "metadata": {},
     "output_type": "execute_result"
    }
   ],
   "source": [
    "\"\"\"Here, we can see that the methods such as __str__(),\n",
    "which have not been overridden in the child classes, are used from the\n",
    "parent class. Due to polymorphism, the Python interpreter automatically\n",
    "recognizes that the fact() method for object a(Square class) is overridden.\n",
    "So, it uses the one defined in the child class. On the other hand, since\n",
    "the fact() method for object b isn't overridden,\n",
    "it is used from the Parent Shape class. \"\"\""
   ]
  }
 ],
 "metadata": {
  "colab": {
   "provenance": []
  },
  "kernelspec": {
   "display_name": "Python 3 (ipykernel)",
   "language": "python",
   "name": "python3"
  },
  "language_info": {
   "codemirror_mode": {
    "name": "ipython",
    "version": 3
   },
   "file_extension": ".py",
   "mimetype": "text/x-python",
   "name": "python",
   "nbconvert_exporter": "python",
   "pygments_lexer": "ipython3",
   "version": "3.9.12"
  }
 },
 "nbformat": 4,
 "nbformat_minor": 5
}
