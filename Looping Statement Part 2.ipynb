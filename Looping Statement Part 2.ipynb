{
 "cells": [
  {
   "cell_type": "code",
   "execution_count": 1,
   "id": "25e80aa8",
   "metadata": {},
   "outputs": [
    {
     "name": "stdout",
     "output_type": "stream",
     "text": [
      "0\n",
      "1\n",
      "2\n",
      "3\n",
      "4\n",
      "5\n",
      "6\n",
      "7\n",
      "8\n",
      "9\n",
      "End of code\n"
     ]
    }
   ],
   "source": [
    "for i in range(10):\n",
    "    print(i)\n",
    "print(\"End of code\")"
   ]
  },
  {
   "cell_type": "code",
   "execution_count": 2,
   "id": "22faff43",
   "metadata": {},
   "outputs": [
    {
     "name": "stdout",
     "output_type": "stream",
     "text": [
      "11\n",
      "12\n",
      "13\n",
      "14\n",
      "15\n",
      "16\n",
      "17\n",
      "18\n",
      "19\n",
      "20\n",
      "End of code\n"
     ]
    }
   ],
   "source": [
    "for i in range(11,21):\n",
    "    print(i)\n",
    "print(\"End of code\")"
   ]
  },
  {
   "cell_type": "code",
   "execution_count": 3,
   "id": "c6e2632c",
   "metadata": {},
   "outputs": [],
   "source": [
    "#Task - Print values from 100 to 200 using for loop"
   ]
  },
  {
   "cell_type": "code",
   "execution_count": 4,
   "id": "7d41e61a",
   "metadata": {},
   "outputs": [
    {
     "name": "stdout",
     "output_type": "stream",
     "text": [
      "1\n",
      "3\n",
      "5\n",
      "7\n",
      "9\n",
      "EOC\n"
     ]
    }
   ],
   "source": [
    "#range(start, stop, step)\n",
    "for i in range(1,11,2):\n",
    "    print(i)\n",
    "print(\"EOC\")"
   ]
  },
  {
   "cell_type": "code",
   "execution_count": 5,
   "id": "bf8efa9e",
   "metadata": {},
   "outputs": [
    {
     "name": "stdout",
     "output_type": "stream",
     "text": [
      "8\n",
      "2\n",
      "9\n",
      "2\n",
      "6\n",
      "4\n"
     ]
    }
   ],
   "source": [
    "lst=[8,2,9,2,6,4]\n",
    "for i in lst:  \n",
    "    print(i)"
   ]
  },
  {
   "cell_type": "code",
   "execution_count": 6,
   "id": "b0eba9de",
   "metadata": {},
   "outputs": [
    {
     "name": "stdout",
     "output_type": "stream",
     "text": [
      "28\n",
      "12\n",
      "36\n",
      "4\n",
      "10\n"
     ]
    }
   ],
   "source": [
    "even_tuple=(28,12,36,4,10)\n",
    "for i in even_tuple:  \n",
    "    print(i)"
   ]
  },
  {
   "cell_type": "code",
   "execution_count": 7,
   "id": "87204581",
   "metadata": {},
   "outputs": [
    {
     "name": "stdout",
     "output_type": "stream",
     "text": [
      "South Africa\n",
      "Nigeria\n",
      "Keniya\n"
     ]
    }
   ],
   "source": [
    "countries=[\"South Africa\",\"Nigeria\",\"Keniya\"]\n",
    "for i in countries:\n",
    "    print(i)"
   ]
  },
  {
   "cell_type": "code",
   "execution_count": 8,
   "id": "1d2ba110",
   "metadata": {},
   "outputs": [
    {
     "name": "stdout",
     "output_type": "stream",
     "text": [
      "SOUTH AFRICA\n",
      "NIGERIA\n",
      "KENIYA\n"
     ]
    }
   ],
   "source": [
    "countries=[\"South Africa\",\"Nigeria\",\"Keniya\"]\n",
    "for i in countries:\n",
    "    print(i.upper())"
   ]
  },
  {
   "cell_type": "code",
   "execution_count": 9,
   "id": "4a08d6cb",
   "metadata": {},
   "outputs": [
    {
     "name": "stdout",
     "output_type": "stream",
     "text": [
      "SOUTH AFRICA  - # chars:  12\n",
      "NIGERIA  - # chars:  7\n",
      "KENIYA  - # chars:  6\n"
     ]
    }
   ],
   "source": [
    "countries=[\"South Africa\",\"Nigeria\",\"Keniya\"]\n",
    "for i in countries:\n",
    "    print(i.upper(),\" - # chars: \",len(i))"
   ]
  },
  {
   "cell_type": "code",
   "execution_count": 12,
   "id": "c1214171",
   "metadata": {},
   "outputs": [
    {
     "name": "stdout",
     "output_type": "stream",
     "text": [
      "8  is even number\n",
      "2  is even number\n",
      "6  is even number\n",
      "4  is even number\n"
     ]
    }
   ],
   "source": [
    "#calculate even of each value in list\n",
    "lst=[8,2,9,6,4]\n",
    "for i in lst:\n",
    "    if i%2==0:\n",
    "        print(i,\" is even number\")"
   ]
  },
  {
   "cell_type": "code",
   "execution_count": 13,
   "id": "8338ca7d",
   "metadata": {},
   "outputs": [],
   "source": [
    "#Task - Print odd numbers from the list using for loop"
   ]
  },
  {
   "cell_type": "code",
   "execution_count": 14,
   "id": "ada5604a",
   "metadata": {},
   "outputs": [],
   "source": [
    "population={\"SA\":60,\"NG\":20,\"IN\":135}"
   ]
  },
  {
   "cell_type": "code",
   "execution_count": 15,
   "id": "8af1467a",
   "metadata": {},
   "outputs": [
    {
     "name": "stdout",
     "output_type": "stream",
     "text": [
      "SA\n",
      "NG\n",
      "IN\n"
     ]
    }
   ],
   "source": [
    "for i in population:\n",
    "    print(i)"
   ]
  },
  {
   "cell_type": "code",
   "execution_count": 16,
   "id": "d099809a",
   "metadata": {},
   "outputs": [
    {
     "name": "stdout",
     "output_type": "stream",
     "text": [
      "60\n",
      "20\n",
      "135\n"
     ]
    }
   ],
   "source": [
    "for i in population.values():\n",
    "    print(i)"
   ]
  },
  {
   "cell_type": "code",
   "execution_count": 17,
   "id": "9761932e",
   "metadata": {},
   "outputs": [
    {
     "data": {
      "text/plain": [
       "dict_items([('SA', 60), ('NG', 20), ('IN', 135)])"
      ]
     },
     "execution_count": 17,
     "metadata": {},
     "output_type": "execute_result"
    }
   ],
   "source": [
    "population.items()"
   ]
  },
  {
   "cell_type": "code",
   "execution_count": 18,
   "id": "eca8b83e",
   "metadata": {},
   "outputs": [
    {
     "name": "stdout",
     "output_type": "stream",
     "text": [
      "SA 60\n",
      "NG 20\n",
      "IN 135\n"
     ]
    }
   ],
   "source": [
    "for i,j in population.items():\n",
    "    print(i,j)"
   ]
  },
  {
   "cell_type": "code",
   "execution_count": null,
   "id": "1386c5c5",
   "metadata": {},
   "outputs": [],
   "source": []
  },
  {
   "cell_type": "code",
   "execution_count": 19,
   "id": "1923ec79",
   "metadata": {},
   "outputs": [
    {
     "name": "stdout",
     "output_type": "stream",
     "text": [
      "[2, 8]\n",
      "[3, 1, 7, 5, 9]\n"
     ]
    }
   ],
   "source": [
    "#Guess the output\n",
    "lst=[3,1,7,5,2,8,9]\n",
    "even_lst=[]\n",
    "odd_lst=[] \n",
    "for i in lst: \n",
    "    if i%2==0:\n",
    "        even_lst.append(i)\n",
    "    else:\n",
    "        odd_lst.append(i)\n",
    "print(even_lst)\n",
    "print(odd_lst)        "
   ]
  },
  {
   "cell_type": "code",
   "execution_count": 20,
   "id": "ad8237f7",
   "metadata": {},
   "outputs": [
    {
     "name": "stdout",
     "output_type": "stream",
     "text": [
      "Enter a number 5\n",
      "5 is an odd number\n",
      "Enter a number 8\n",
      "8 is an even number\n",
      "Enter a number 2\n",
      "2 is an even number\n"
     ]
    }
   ],
   "source": [
    "#Guess the output\n",
    "for i in range(3):\n",
    "    number=int(input(\"Enter a number \"))\n",
    "    if number%2==0:\n",
    "        print(number, \"is an even number\")\n",
    "    else:\n",
    "        print(number, \"is an odd number\")"
   ]
  },
  {
   "cell_type": "code",
   "execution_count": 21,
   "id": "e1e03028",
   "metadata": {},
   "outputs": [
    {
     "name": "stdout",
     "output_type": "stream",
     "text": [
      "Enter p 7\n",
      "Enter n 8\n",
      "Enter r 9\n",
      "SI =  5.04\n",
      "Enter p 7\n",
      "Enter n 8\n",
      "Enter r 9\n",
      "SI =  5.04\n",
      "Enter p 7\n",
      "Enter n 8\n",
      "Enter r 9\n",
      "SI =  5.04\n"
     ]
    }
   ],
   "source": [
    "#Guess the output\n",
    "for i in range(3):\n",
    "    p=int(input(\"Enter p \"))\n",
    "    n=int(input(\"Enter n \"))\n",
    "    r=int(input(\"Enter r \"))\n",
    "    si=(p*n*r)/100\n",
    "    print(\"SI = \",si)"
   ]
  },
  {
   "cell_type": "code",
   "execution_count": 1,
   "id": "8ca0e54c",
   "metadata": {},
   "outputs": [
    {
     "name": "stdout",
     "output_type": "stream",
     "text": [
      "Enter the integer number: 2345\n",
      "The reverse number is : 5432\n"
     ]
    }
   ],
   "source": [
    "# Reverse number\n",
    "number = int(input(\"Enter the integer number: \"))  \n",
    "  \n",
    "revs_number = 0  \n",
    "  \n",
    "while (number > 0):  \n",
    "    remainder = number % 10  \n",
    "    revs_number = (revs_number * 10) + remainder  \n",
    "    number = number // 10  \n",
    "  \n",
    "print(\"The reverse number is :\",revs_number) "
   ]
  },
  {
   "cell_type": "code",
   "execution_count": null,
   "id": "4a371b20",
   "metadata": {},
   "outputs": [],
   "source": []
  }
 ],
 "metadata": {
  "kernelspec": {
   "display_name": "Python 3 (ipykernel)",
   "language": "python",
   "name": "python3"
  },
  "language_info": {
   "codemirror_mode": {
    "name": "ipython",
    "version": 3
   },
   "file_extension": ".py",
   "mimetype": "text/x-python",
   "name": "python",
   "nbconvert_exporter": "python",
   "pygments_lexer": "ipython3",
   "version": "3.11.5"
  }
 },
 "nbformat": 4,
 "nbformat_minor": 5
}
